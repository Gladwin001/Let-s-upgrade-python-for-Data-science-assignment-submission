{
 "cells": [
  {
   "cell_type": "raw",
   "metadata": {},
   "source": [
    " 1) After running the following code, what does the variable bacon contain?\n",
    "\n",
    "bacon = 22\n",
    "bacon + 1\n",
    "\n",
    "EXPLANATION:\n",
    "            *The variable bacon contain 22\n",
    "            *The bacon + 1 expression does not reassign the value 1 in bacon variable.\n",
    "            *(If it would be an assignment statement: bacon = bacon + 1)"
   ]
  },
  {
   "cell_type": "raw",
   "metadata": {},
   "source": [
    "2) What should the values of the following two terms be?\n",
    "\n",
    "'spam' + 'spamspam'\n",
    "ANSWER: spamspamspam\n",
    "\n",
    "'spam' * 3\n",
    "ANSWER: spamspamspam"
   ]
  },
  {
   "cell_type": "raw",
   "metadata": {},
   "source": [
    "3) How can you tell the difference between break and continue?\n",
    "BREAK STATEMENT:\n",
    "                *Break leaves the loop completely and executes the statements after that loop.\n",
    "                *break completely exits the loop.\n",
    "CONTINUE STATEMENT:\n",
    "         *Continue leaves the current iteration and executes with the next value in the loop. \n",
    "         *continue skips the current iteration and continue with the remaining values in the loops"
   ]
  },
  {
   "cell_type": "raw",
   "metadata": {},
   "source": [
    "4) In a for loop, what is the difference between range(10), range(0, 10), and range(0, 10, 1)?\n",
    "SYNTAX FOR FOR LOOP:\n",
    "\n",
    "range(starting value,ending value ,step value):\n",
    "       starting value -value from which the loop must start.default is ZERO.\n",
    "       ending value   -value to which the loop must end ,basically it is (n-1).\n",
    "       step valuie-   -value on which the numbers should iterate on each call in loop,defaultly value is ONE.\n",
    "Here,\n",
    "\n",
    "i.range(10)\n",
    "         In this example only the ending value is given so the starting value is default taken from 0\n",
    "\n",
    "ii.range(0, 10)\n",
    "         In this example only the starting and ending value is given so the step or iterating value is defaultly taken as 1\n",
    "             \n",
    "iii.range(0, 10, 1)\n",
    "          In this all the value is correctly given as per syntax.\n",
    "      \n",
    "NOTE: Here all the three statements given the same output that is printing from 0 to 9."
   ]
  },
  {
   "cell_type": "raw",
   "metadata": {},
   "source": [
    "5) Using a for loop, write a short programme that prints the numbers 1 to 10 Then, using a while loop, create an identical programme that prints the numbers 1 to 10.\n",
    "\n",
    "USING FOR LOOP:\n",
    "               for i in range(1,11,1):\n",
    "                   print(i)\n",
    "USING WHILE LOOP:\n",
    "               i=1\n",
    "               while(i<=10):\n",
    "                   print(i)\n",
    "                   i=i+1"
   ]
  },
  {
   "cell_type": "code",
   "execution_count": null,
   "metadata": {},
   "outputs": [],
   "source": [
    "#Using a for loop, write a short programme that prints the numbers 1 to 10\n",
    " for i in range(1,11,1):\n",
    "        print(i)"
   ]
  },
  {
   "cell_type": "code",
   "execution_count": null,
   "metadata": {},
   "outputs": [],
   "source": [
    "# using a while loop, create an identical programme that prints the numbers 1 to 10.\n",
    "i=1\n",
    "while(i<=10):\n",
    "    print(i)\n",
    "    i=i+1"
   ]
  },
  {
   "cell_type": "raw",
   "metadata": {},
   "source": [
    "6) Given a number x, determine whether the given number is Armstrong number or not.\n",
    "\n",
    "Input : 153\n",
    "\n",
    "Output : Yes\n",
    "\n",
    "153 is an Armstrong number.\n",
    "\n",
    "1 * 1 * 1 + 5 * 5 * 5 + 3 * 3 * 3 = 153\n",
    "\n",
    "PYTHON PROGRAM:\n",
    "              num = int(input(\"Enter a number: \"))  \n",
    "              sum = 0  \n",
    "              temp = num  \n",
    "              while temp > 0:  \n",
    "                    digit = temp % 10  \n",
    "                    sum += digit ** 3  \n",
    "                    temp //= 10  \n",
    "              if num == sum:  \n",
    "                    print(num,\"is an Armstrong number\")  \n",
    "              else:  \n",
    "                    print(num,\"is not an Armstrong number\")  "
   ]
  },
  {
   "cell_type": "code",
   "execution_count": null,
   "metadata": {},
   "outputs": [],
   "source": [
    "# Given a number x, determine whether the given number is Armstrong number or not.\n",
    "\n",
    "num = int(input(\"Enter a number: \"))  \n",
    "sum = 0  \n",
    "temp = num  \n",
    "while temp > 0:  \n",
    "    digit = temp % 10  \n",
    "    sum += digit ** 3  \n",
    "    temp //= 10  \n",
    "if num == sum:  \n",
    "    print(num,\"is an Armstrong number\")  \n",
    "else:  \n",
    "    print(num,\"is not an Armstrong number\")  "
   ]
  },
  {
   "cell_type": "raw",
   "metadata": {},
   "source": [
    "7) Program to find Sum of squares of first n natural numbers.\n",
    "\n",
    "PYTHON PROGRAM:\n",
    "              x=int(input(\"Enter a value of n for sum of square of n natural number \"))\n",
    "              i=1\n",
    "              sum=0\n",
    "              while(i<=x):\n",
    "                 sum=sum+i**2\n",
    "                 i=i+1\n",
    "              print(\" sum of square of n natural number:\",sum)"
   ]
  },
  {
   "cell_type": "code",
   "execution_count": null,
   "metadata": {},
   "outputs": [],
   "source": [
    "# Program to find Sum of squares of first n natural numbers.\n",
    "              x=int(input(\"Enter a value of n for sum of square of n natural number \"))\n",
    "              i=1\n",
    "              sum=0\n",
    "              while(i<=x):\n",
    "                 sum=sum+i**2\n",
    "                 i=i+1\n",
    "              print(\" sum of square of n natural number:\",sum)\n",
    "     "
   ]
  },
  {
   "cell_type": "raw",
   "metadata": {},
   "source": [
    "8) Program to Reverse words in a given String in Python.\n",
    "\n",
    "\n",
    "PYTHON PROGRAM:\n",
    "              i=input(\"Enter a string : \")\n",
    "              x=0\n",
    "              a=\"\"\n",
    "              while(x<len(i)):\n",
    "                  a=i[::-1]\n",
    "                  x=x+1\n",
    "              print(a)\n",
    "\n"
   ]
  },
  {
   "cell_type": "code",
   "execution_count": null,
   "metadata": {},
   "outputs": [],
   "source": [
    "# Program to Reverse words in a given String in Python.\n",
    "i=input(\"Enter a string : \")\n",
    "x=0\n",
    "a=\"\"\n",
    "while(x<len(i)):\n",
    "    a=i[::-1]\n",
    "    x=x+1\n",
    "print(a)\n",
    "\n"
   ]
  },
  {
   "cell_type": "raw",
   "metadata": {},
   "source": [
    "9) Given a list of numbers, write a Python program to find the sum of all the elements in the list.\n",
    "\n",
    "Input: [10,12,13]\n",
    "\n",
    "Output: 35\n",
    "\n",
    "PYTHON PROGRAM:\n",
    "               i= [10,12,13]\n",
    "               x=0\n",
    "               sum=0\n",
    "               while(x<len(i)):\n",
    "                   sum=sum+i[x]\n",
    "                   x=x+1\n",
    "               print(\"The sum of elements of [10,12,13] : \", sum)\n"
   ]
  },
  {
   "cell_type": "code",
   "execution_count": null,
   "metadata": {},
   "outputs": [],
   "source": [
    "# Given a list of numbers  [10,12,13] , write a Python program to find the sum of all the elements in the list.\n",
    "i= [10,12,13]\n",
    "x=0\n",
    "sum=0\n",
    "while(x<len(i)):\n",
    "    sum=sum+i[x]\n",
    "    x=x+1\n",
    "print(\"The sum of elements of [10,12,13] : \", sum)\n",
    "\n",
    "\n",
    "\n",
    "\n"
   ]
  },
  {
   "cell_type": "raw",
   "metadata": {},
   "source": [
    "10) Write a Python program to print all even numbers between 10-1000.\n",
    "\n",
    "PYTHON PROGRAM:\n",
    "              for i in range(10,1000,2):\n",
    "                  print(i)\n"
   ]
  },
  {
   "cell_type": "code",
   "execution_count": null,
   "metadata": {},
   "outputs": [],
   "source": [
    "#  Write a Python program to print all even numbers between 10-1000.\n",
    "for i in range(10,1000,2):\n",
    "    print(i)\n",
    "\n"
   ]
  }
 ],
 "metadata": {
  "kernelspec": {
   "display_name": "Python 3",
   "language": "python",
   "name": "python3"
  },
  "language_info": {
   "codemirror_mode": {
    "name": "ipython",
    "version": 3
   },
   "file_extension": ".py",
   "mimetype": "text/x-python",
   "name": "python",
   "nbconvert_exporter": "python",
   "pygments_lexer": "ipython3",
   "version": "3.7.4"
  }
 },
 "nbformat": 4,
 "nbformat_minor": 2
}
